{
 "cells": [
  {
   "cell_type": "code",
   "execution_count": 1,
   "id": "cae82cb8-d538-4603-b256-0a94c94b22ad",
   "metadata": {},
   "outputs": [],
   "source": [
    "# Q1\n",
    "\n",
    "# Abstraction is the process of hiding the internal details of an application from the outer world. \n",
    "# Abstraction is used to describe things in simple terms."
   ]
  },
  {
   "cell_type": "code",
   "execution_count": 2,
   "id": "19c6090d-e9fc-42c3-a906-e00a2fd31f2c",
   "metadata": {},
   "outputs": [],
   "source": [
    "# Q2\n",
    "\n",
    "# Abstraction is the process of hiding the internal details of an application from the outer world.\n",
    "# Abstraction is used to describe things in simple terms.\n",
    "\n",
    "# Encapsulation is the process of binding the data and hiding."
   ]
  },
  {
   "cell_type": "code",
   "execution_count": null,
   "id": "28a62d17-1853-4043-81d7-75d79a3cbecc",
   "metadata": {},
   "outputs": [],
   "source": [
    "# Q3\n",
    "\n",
    "# The 'abc' module in Python library provides the infrastructure for defining custom abstract base classes. 'abc' works by marking methods of the base class as abstract. This is done by @absttractmethod decorator."
   ]
  }
 ],
 "metadata": {
  "kernelspec": {
   "display_name": "Python 3 (ipykernel)",
   "language": "python",
   "name": "python3"
  },
  "language_info": {
   "codemirror_mode": {
    "name": "ipython",
    "version": 3
   },
   "file_extension": ".py",
   "mimetype": "text/x-python",
   "name": "python",
   "nbconvert_exporter": "python",
   "pygments_lexer": "ipython3",
   "version": "3.10.8"
  }
 },
 "nbformat": 4,
 "nbformat_minor": 5
}
